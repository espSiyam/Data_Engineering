{
 "cells": [
  {
   "cell_type": "markdown",
   "id": "b4b7c059-1bfc-4188-a053-86e5940bae5d",
   "metadata": {},
   "source": [
    "## Downloading menu card from Facebook"
   ]
  },
  {
   "cell_type": "code",
   "execution_count": 17,
   "id": "5865d401-f3e6-4203-a789-61932b8235fa",
   "metadata": {},
   "outputs": [],
   "source": [
    "from selenium import webdriver\n",
    "from selenium.webdriver.support.ui import Select\n",
    "from webdriver_manager.chrome import ChromeDriverManager\n",
    "import time\n",
    "import pandas as pd\n",
    "import requests\n",
    "import json\n",
    "import os\n",
    "import cv2\n",
    "from matplotlib import pyplot as plt\n",
    "import numpy as np\n",
    "from deep_translator import GoogleTranslator\n",
    "from sqlalchemy import create_engine\n",
    "\n",
    "os.environ['KMP_DUPLICATE_LIB_OK']='True'\n",
    "import easyocr\n",
    "\n",
    "database_credential = json.load(open('credentials.json'))\n",
    "connection = create_engine(database_credential['db'])"
   ]
  },
  {
   "cell_type": "code",
   "execution_count": 2,
   "id": "1d8ee7c1-9f77-43af-ad2d-0b8216ed75b4",
   "metadata": {},
   "outputs": [
    {
     "name": "stdout",
     "output_type": "stream",
     "text": [
      "\n"
     ]
    },
    {
     "name": "stderr",
     "output_type": "stream",
     "text": [
      "[WDM] - ====== WebDriver manager ======\n",
      "[WDM] - Current google-chrome version is 105.0.5195\n",
      "[WDM] - Get LATEST chromedriver version for 105.0.5195 google-chrome\n",
      "[WDM] - Driver [C:\\Users\\my pc\\.wdm\\drivers\\chromedriver\\win32\\105.0.5195.52\\chromedriver.exe] found in cache\n"
     ]
    },
    {
     "name": "stdout",
     "output_type": "stream",
     "text": [
      "Opened facebook\n"
     ]
    }
   ],
   "source": [
    "driver = webdriver.Chrome(ChromeDriverManager().install())\n",
    "driver.get('https://www.facebook.com/chillox.burgers/photos/p.4362603440501202/4362603440501202')\n",
    "print (\"Opened facebook\")\n",
    "time.sleep(1)\n",
    "\n",
    "image_path = \"/html/body/div[1]/div/div[1]/div/div[3]/div/div/div/div[1]/div[1]/div/div[1]/div/div[1]/div/div[2]/div/div/div/img\"\n",
    "\n",
    "# get the image source\n",
    "img = driver.find_element_by_xpath(image_path)\n",
    "src = img.get_attribute('src')\n",
    "\n",
    "# download the image\n",
    "img_data = requests.get(src).content\n",
    "with open('./data/3_chillox_menu.jpg', 'wb') as handler:\n",
    "    handler.write(img_data)"
   ]
  },
  {
   "cell_type": "markdown",
   "id": "a1f3527b-80ca-44db-8abf-305ad7f6be9d",
   "metadata": {},
   "source": [
    "## Extracting name and price using OCR (Optical Character Recognition)"
   ]
  },
  {
   "cell_type": "code",
   "execution_count": 4,
   "id": "a3dea55e-9194-48cd-a9ba-27d3ebdfdcb2",
   "metadata": {},
   "outputs": [
    {
     "name": "stderr",
     "output_type": "stream",
     "text": [
      "CUDA not available - defaulting to CPU. Note: This module is much faster with a GPU.\n"
     ]
    }
   ],
   "source": [
    "# This process is a bit slow. Please wait patiently\n",
    "\n",
    "IMAGE_PATH = './data/3_chillox_menu.jpg'\n",
    "reader = easyocr.Reader(['en'])\n",
    "result = reader.readtext(IMAGE_PATH,paragraph=\"False\")\n",
    "test = pd.DataFrame({'name': result})"
   ]
  },
  {
   "cell_type": "code",
   "execution_count": 5,
   "id": "152d3bea-9cae-411c-964c-9b38bec6025a",
   "metadata": {},
   "outputs": [],
   "source": [
    "name_price_list = []\n",
    "\n",
    "for i in range(len(test)):\n",
    "    name_price = test['name'].iloc[i][-1]\n",
    "    name_price_list.append(name_price)\n",
    "    \n",
    "testing = pd.DataFrame({'name': name_price_list})"
   ]
  },
  {
   "cell_type": "markdown",
   "id": "55452ac1-d25c-4850-abda-6a96728afc00",
   "metadata": {},
   "source": [
    "#### OCR caused a few messy data, cleaning them"
   ]
  },
  {
   "cell_type": "code",
   "execution_count": 6,
   "id": "93ae3e57-6656-41d4-ab6f-a62e80b1482c",
   "metadata": {},
   "outputs": [
    {
     "data": {
      "text/html": [
       "<div>\n",
       "<style scoped>\n",
       "    .dataframe tbody tr th:only-of-type {\n",
       "        vertical-align: middle;\n",
       "    }\n",
       "\n",
       "    .dataframe tbody tr th {\n",
       "        vertical-align: top;\n",
       "    }\n",
       "\n",
       "    .dataframe thead th {\n",
       "        text-align: right;\n",
       "    }\n",
       "</style>\n",
       "<table border=\"1\" class=\"dataframe\">\n",
       "  <thead>\n",
       "    <tr style=\"text-align: right;\">\n",
       "      <th></th>\n",
       "      <th>name</th>\n",
       "      <th>price</th>\n",
       "      <th>restaurant</th>\n",
       "    </tr>\n",
       "  </thead>\n",
       "  <tbody>\n",
       "    <tr>\n",
       "      <th>9</th>\n",
       "      <td>FRENCH FRIES (REGULARILARGE)</td>\n",
       "      <td>70</td>\n",
       "      <td>chillox</td>\n",
       "    </tr>\n",
       "    <tr>\n",
       "      <th>10</th>\n",
       "      <td>BINGE BEEFICHICKEN 2x Giant Beeli Chicken Patl...</td>\n",
       "      <td>680</td>\n",
       "      <td>chillox</td>\n",
       "    </tr>\n",
       "    <tr>\n",
       "      <th>11</th>\n",
       "      <td>CHICKEN FINGERS (5 PCS/1O PCS)</td>\n",
       "      <td>130</td>\n",
       "      <td>chillox</td>\n",
       "    </tr>\n",
       "  </tbody>\n",
       "</table>\n",
       "</div>"
      ],
      "text/plain": [
       "                                                 name  price restaurant\n",
       "9                        FRENCH FRIES (REGULARILARGE)     70    chillox\n",
       "10  BINGE BEEFICHICKEN 2x Giant Beeli Chicken Patl...    680    chillox\n",
       "11                     CHICKEN FINGERS (5 PCS/1O PCS)    130    chillox"
      ]
     },
     "execution_count": 6,
     "metadata": {},
     "output_type": "execute_result"
    }
   ],
   "source": [
    "price_list = []\n",
    "product_list = []\n",
    "\n",
    "for i in range(len(testing)):\n",
    "    if \"TK\" in testing['name'].iloc[i]:\n",
    "        price = (testing['name'].iloc[i])\n",
    "        \n",
    "        condition = (price.split(\" \")[-1])\n",
    "        \n",
    "        if condition == \"TK\":\n",
    "            \n",
    "            name = testing['name'].iloc[i-1]\n",
    "            price = testing['name'].iloc[i]\n",
    "            \n",
    "            try:\n",
    "                price = int(price.split(\" \")[0])\n",
    "                \n",
    "                product_list.append(name)\n",
    "                price_list.append(price)\n",
    "                \n",
    "            except:\n",
    "                pass\n",
    "\n",
    "chillox = pd.DataFrame({'name': product_list, 'price': price_list})\n",
    "chillox['restaurant'] = None\n",
    "chillox['restaurant'] = \"chillox\"\n",
    "chillox.to_sql(con=connection, name = 'chillox', if_exists='replace', index=False)\n",
    "\n",
    "chillox.tail(3)"
   ]
  },
  {
   "cell_type": "markdown",
   "id": "dbdabe67-3228-41e6-9ee3-7b57c5339379",
   "metadata": {},
   "source": [
    "## Extracting location data"
   ]
  },
  {
   "cell_type": "code",
   "execution_count": 15,
   "id": "636f7f39-a710-4b72-96a5-abc5d23ed3cc",
   "metadata": {},
   "outputs": [
    {
     "name": "stdout",
     "output_type": "stream",
     "text": [
      "\n"
     ]
    },
    {
     "name": "stderr",
     "output_type": "stream",
     "text": [
      "[WDM] - ====== WebDriver manager ======\n",
      "[WDM] - Current google-chrome version is 105.0.5195\n",
      "[WDM] - Get LATEST chromedriver version for 105.0.5195 google-chrome\n",
      "[WDM] - Driver [C:\\Users\\my pc\\.wdm\\drivers\\chromedriver\\win32\\105.0.5195.52\\chromedriver.exe] found in cache\n"
     ]
    }
   ],
   "source": [
    "path = 'https://www.google.com/search?q=chillox+location&rlz=1C1ONGR_enBD1012BD1012&biw=1036&bih=666&sz=0&tbm=lcl&ei=c3w0Y4XpA5WOseMPx6eniAw&ved=0ahUKEwjF7sr_-bf6AhUVR2wGHcfTCcEQ4dUDCAk&uact=5&oq=chillox+location&gs_lcp=Cg1nd3Mtd2l6LWxvY2FsEAMyBAgAEBMyCAgAEB4QFhATMggIABAeEBYQEzIICAAQHhAWEBMyCAgAEB4QFhATMggIABAeEBYQEzIICAAQHhAWEBMyCAgAEB4QFhATMggIABAeEBYQEzIICAAQHhAWEBNQAFgAYMMOaABwAHgAgAGtAYgBrQGSAQMwLjGYAQDAAQE&sclient=gws-wiz-local#rlfi=hd:;si:;mv:[[23.817414,90.42820069999999],[23.713757800000003,90.35701499999999]];tbs:lrf:!1m4!1u3!2m2!3m1!1e1!2m1!1e3!3sIAE,lf:1,lf_ui:4'\n",
    "driver = webdriver.Chrome(ChromeDriverManager().install())\n",
    "driver.get(path)\n",
    "all_location = driver.find_element(\"id\", 'rl_ist0')"
   ]
  },
  {
   "cell_type": "markdown",
   "id": "bfe05633-06bb-41e2-b9e7-ea4072b77a99",
   "metadata": {},
   "source": [
    "#### Taking just location(Chillox Mirpur > Mirpur)\n",
    "\n",
    "#### Converting bangla location to eng using GoogleTranslator"
   ]
  },
  {
   "cell_type": "code",
   "execution_count": 16,
   "id": "3fec5fa5-5529-45ab-ba2b-c58e58aaec1b",
   "metadata": {},
   "outputs": [
    {
     "data": {
      "text/html": [
       "<div>\n",
       "<style scoped>\n",
       "    .dataframe tbody tr th:only-of-type {\n",
       "        vertical-align: middle;\n",
       "    }\n",
       "\n",
       "    .dataframe tbody tr th {\n",
       "        vertical-align: top;\n",
       "    }\n",
       "\n",
       "    .dataframe thead th {\n",
       "        text-align: right;\n",
       "    }\n",
       "</style>\n",
       "<table border=\"1\" class=\"dataframe\">\n",
       "  <thead>\n",
       "    <tr style=\"text-align: right;\">\n",
       "      <th></th>\n",
       "      <th>location</th>\n",
       "      <th>restaurant</th>\n",
       "    </tr>\n",
       "  </thead>\n",
       "  <tbody>\n",
       "    <tr>\n",
       "      <th>0</th>\n",
       "      <td>Dhanmondi</td>\n",
       "      <td>chillox</td>\n",
       "    </tr>\n",
       "    <tr>\n",
       "      <th>1</th>\n",
       "      <td>Khilgaon</td>\n",
       "      <td>chillox</td>\n",
       "    </tr>\n",
       "    <tr>\n",
       "      <th>2</th>\n",
       "      <td>Wari</td>\n",
       "      <td>chillox</td>\n",
       "    </tr>\n",
       "    <tr>\n",
       "      <th>3</th>\n",
       "      <td>Mohammadpur</td>\n",
       "      <td>chillox</td>\n",
       "    </tr>\n",
       "    <tr>\n",
       "      <th>4</th>\n",
       "      <td>great empty</td>\n",
       "      <td>chillox</td>\n",
       "    </tr>\n",
       "    <tr>\n",
       "      <th>5</th>\n",
       "      <td>Aftabnagar</td>\n",
       "      <td>chillox</td>\n",
       "    </tr>\n",
       "    <tr>\n",
       "      <th>6</th>\n",
       "      <td>Banani</td>\n",
       "      <td>chillox</td>\n",
       "    </tr>\n",
       "    <tr>\n",
       "      <th>7</th>\n",
       "      <td>Basundhara</td>\n",
       "      <td>chillox</td>\n",
       "    </tr>\n",
       "  </tbody>\n",
       "</table>\n",
       "</div>"
      ],
      "text/plain": [
       "      location restaurant\n",
       "0    Dhanmondi    chillox\n",
       "1     Khilgaon    chillox\n",
       "2         Wari    chillox\n",
       "3  Mohammadpur    chillox\n",
       "4  great empty    chillox\n",
       "5   Aftabnagar    chillox\n",
       "6       Banani    chillox\n",
       "7   Basundhara    chillox"
      ]
     },
     "execution_count": 16,
     "metadata": {},
     "output_type": "execute_result"
    }
   ],
   "source": [
    "location_list_uncleaned = all_location.text.split(\"\\n\")\n",
    "\n",
    "cleaned_location = []\n",
    "\n",
    "for loc in location_list_uncleaned:\n",
    "    if \"চিলক্স\" in loc:\n",
    "        loc = loc.replace(\"চিলক্স\", \"\").strip()\n",
    "        loc = GoogleTranslator(source='auto', target='en').translate(loc) \n",
    "        cleaned_location.append(loc)\n",
    "    elif 'Chillox' in loc:\n",
    "        loc = loc.replace('Chillox', \"\").strip()\n",
    "        cleaned_location.append(loc)   \n",
    "\n",
    "location_data = pd.DataFrame({'location': cleaned_location})\n",
    "location_data['restaurant'] = None\n",
    "location_data['restaurant'] = \"chillox\"\n",
    "\n",
    "location_data"
   ]
  },
  {
   "cell_type": "code",
   "execution_count": 14,
   "id": "20501faa-b58d-4280-93fd-cc163ad2f5d0",
   "metadata": {},
   "outputs": [],
   "source": [
    "location_data.to_sql(con=connection, name = 'location_data', if_exists='append', index=False)"
   ]
  }
 ],
 "metadata": {
  "kernelspec": {
   "display_name": "Python 3",
   "language": "python",
   "name": "python3"
  },
  "language_info": {
   "codemirror_mode": {
    "name": "ipython",
    "version": 3
   },
   "file_extension": ".py",
   "mimetype": "text/x-python",
   "name": "python",
   "nbconvert_exporter": "python",
   "pygments_lexer": "ipython3",
   "version": "3.6.3"
  }
 },
 "nbformat": 4,
 "nbformat_minor": 5
}
