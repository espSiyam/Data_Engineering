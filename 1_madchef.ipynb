{
 "cells": [
  {
   "cell_type": "markdown",
   "id": "42ded2a4-97b1-4249-871d-f72806d3dd8a",
   "metadata": {},
   "source": [
    "## Extracting location"
   ]
  },
  {
   "cell_type": "code",
   "execution_count": 3,
   "id": "507da29e-05da-4bc6-a0d2-e18ef8712dd3",
   "metadata": {},
   "outputs": [],
   "source": [
    "import pandas as pd\n",
    "import requests\n",
    "from bs4 import BeautifulSoup\n",
    "from sqlalchemy import create_engine\n",
    "import json\n",
    "\n",
    "database_credential = json.load(open('credentials.json'))\n",
    "connection = create_engine(database_credential['db'])"
   ]
  },
  {
   "cell_type": "code",
   "execution_count": null,
   "id": "51054534-baa6-43ee-bdc6-df6a67bbb2c7",
   "metadata": {},
   "outputs": [],
   "source": [
    "response = requests.get('https://madchef.com.bd/contact#branches')\n",
    "print(\"The status code is \", response.status_code)\n",
    "scraped_data = BeautifulSoup(response.text, 'html.parser')\n",
    "locations = scraped_data.find_all(\"div\", {\"class\": \"branch\"})"
   ]
  },
  {
   "cell_type": "code",
   "execution_count": null,
   "id": "562c75f1-5f61-41a9-a903-83235121ac2d",
   "metadata": {},
   "outputs": [],
   "source": [
    "location_list = []\n",
    "\n",
    "for i in range(len(locations)):\n",
    "    location = locations[i].select_one('.branch-name').text.replace(\"\\r\\n\",\"\").strip()\n",
    "    location = location.replace(\"(Delivery)\", \"\").strip()\n",
    "    location_list.append(location)"
   ]
  },
  {
   "cell_type": "code",
   "execution_count": null,
   "id": "7af83fc2-cbe7-4933-b617-fc42111aded1",
   "metadata": {},
   "outputs": [],
   "source": [
    "location_data = pd.DataFrame({'location': location_list})\n",
    "location_data['restaurant'] = None\n",
    "location_data['restaurant'] = \"madchef\"\n",
    "\n",
    "location_data.to_sql(con=connection, name = 'location_data', if_exists='append', index=False)"
   ]
  },
  {
   "cell_type": "markdown",
   "id": "f90c3bef-d155-4962-9457-77a6213fa002",
   "metadata": {},
   "source": [
    "## Extracting Product name and price"
   ]
  },
  {
   "cell_type": "code",
   "execution_count": 14,
   "id": "fc0d9678-b1dc-4180-9f7c-fd0c189f34ff",
   "metadata": {},
   "outputs": [
    {
     "name": "stdout",
     "output_type": "stream",
     "text": [
      "The status code is  200\n"
     ]
    }
   ],
   "source": [
    "response = requests.get('https://madchef.com.bd/menu')\n",
    "print(\"The status code is \", response.status_code)\n",
    "scraped_data = BeautifulSoup(response.text, 'html.parser')"
   ]
  },
  {
   "cell_type": "code",
   "execution_count": 15,
   "id": "9b40a0b0-31f4-450a-bd83-9eb22bd76616",
   "metadata": {},
   "outputs": [],
   "source": [
    "product_name = scraped_data.find_all(\"div\", {\"class\": \"menu-item-title\"})\n",
    "product_price = scraped_data.find_all(\"div\", {\"class\": \"menu-item-price\"})"
   ]
  },
  {
   "cell_type": "code",
   "execution_count": 16,
   "id": "1bab4efd-321c-4d4e-b6d2-4fecd6255381",
   "metadata": {},
   "outputs": [],
   "source": [
    "name_list = []\n",
    "price_list = []\n",
    "\n",
    "for i in range(len(product_name)):\n",
    "    name = product_name[i].text.replace(\"\\n \",\"\").strip()\n",
    "    name = name.replace(\"🌶\", \"\").strip()\n",
    "    name_list.append(name)\n",
    "    \n",
    "    price = product_price[i].text.replace(\"\\n\", \"\")\n",
    "    price = price.replace(\"৳\",\"\").strip()\n",
    "    price_list.append(price)\n",
    "    \n",
    "prod_price = pd.DataFrame({'name': name_list, 'price': price_list} )\n",
    "prod_price['restaurant'] = None\n",
    "prod_price['restaurant'] = 'madchef'"
   ]
  },
  {
   "cell_type": "code",
   "execution_count": 17,
   "id": "4eb25354-2c75-4a21-bf1b-8aa89b76507a",
   "metadata": {},
   "outputs": [
    {
     "data": {
      "text/html": [
       "<div>\n",
       "<style scoped>\n",
       "    .dataframe tbody tr th:only-of-type {\n",
       "        vertical-align: middle;\n",
       "    }\n",
       "\n",
       "    .dataframe tbody tr th {\n",
       "        vertical-align: top;\n",
       "    }\n",
       "\n",
       "    .dataframe thead th {\n",
       "        text-align: right;\n",
       "    }\n",
       "</style>\n",
       "<table border=\"1\" class=\"dataframe\">\n",
       "  <thead>\n",
       "    <tr style=\"text-align: right;\">\n",
       "      <th></th>\n",
       "      <th>name</th>\n",
       "      <th>price</th>\n",
       "      <th>restaurant</th>\n",
       "    </tr>\n",
       "  </thead>\n",
       "  <tbody>\n",
       "    <tr>\n",
       "      <th>0</th>\n",
       "      <td>Chicken Cheese Bombs</td>\n",
       "      <td>299</td>\n",
       "      <td>madchef</td>\n",
       "    </tr>\n",
       "    <tr>\n",
       "      <th>1</th>\n",
       "      <td>Spicy Cajun Fries</td>\n",
       "      <td>159</td>\n",
       "      <td>madchef</td>\n",
       "    </tr>\n",
       "    <tr>\n",
       "      <th>2</th>\n",
       "      <td>Fries - Salt &amp; Pepper</td>\n",
       "      <td>139</td>\n",
       "      <td>madchef</td>\n",
       "    </tr>\n",
       "    <tr>\n",
       "      <th>3</th>\n",
       "      <td>Onion Rings</td>\n",
       "      <td>149</td>\n",
       "      <td>madchef</td>\n",
       "    </tr>\n",
       "    <tr>\n",
       "      <th>4</th>\n",
       "      <td>Spicy Garlic Mushrooms</td>\n",
       "      <td>269</td>\n",
       "      <td>madchef</td>\n",
       "    </tr>\n",
       "  </tbody>\n",
       "</table>\n",
       "</div>"
      ],
      "text/plain": [
       "                     name price restaurant\n",
       "0    Chicken Cheese Bombs   299    madchef\n",
       "1       Spicy Cajun Fries   159    madchef\n",
       "2   Fries - Salt & Pepper   139    madchef\n",
       "3             Onion Rings   149    madchef\n",
       "4  Spicy Garlic Mushrooms   269    madchef"
      ]
     },
     "execution_count": 17,
     "metadata": {},
     "output_type": "execute_result"
    }
   ],
   "source": [
    "prod_price.head(5)"
   ]
  },
  {
   "cell_type": "code",
   "execution_count": 19,
   "id": "138acd50-fb87-4d03-8b60-89edce60f701",
   "metadata": {},
   "outputs": [],
   "source": [
    "prod_price.to_csv(\"./data/1_madchef.csv\", index=False)\n",
    "prod_price.to_sql(con=connection, name = 'madchef', if_exists='append', index=False)"
   ]
  },
  {
   "cell_type": "code",
   "execution_count": null,
   "id": "41f427e9-80ad-4e65-94b5-04c2fae1bbfd",
   "metadata": {},
   "outputs": [],
   "source": []
  }
 ],
 "metadata": {
  "kernelspec": {
   "display_name": "Python 3",
   "language": "python",
   "name": "python3"
  },
  "language_info": {
   "codemirror_mode": {
    "name": "ipython",
    "version": 3
   },
   "file_extension": ".py",
   "mimetype": "text/x-python",
   "name": "python",
   "nbconvert_exporter": "python",
   "pygments_lexer": "ipython3",
   "version": "3.6.3"
  }
 },
 "nbformat": 4,
 "nbformat_minor": 5
}
