{
 "cells": [
  {
   "cell_type": "markdown",
   "id": "283c6964-1211-4e0d-8259-2abf898caa11",
   "metadata": {},
   "source": [
    "## Extract Location and Restaurants table"
   ]
  },
  {
   "cell_type": "code",
   "execution_count": 26,
   "id": "59cc79b3-3728-4f33-9690-d76352eb54d6",
   "metadata": {},
   "outputs": [],
   "source": [
    "import json\n",
    "import pandas as pd\n",
    "from sqlalchemy import create_engine\n",
    "from sqlalchemy import create_engine\n",
    "from IPython.display import clear_output\n",
    "\n",
    "database_credential = json.load(open('credentials.json'))\n",
    "connection = create_engine(database_credential['db'])\n",
    "\n",
    "def table(connection, table_name):\n",
    "    sql = f'''select * from {table_name}'''\n",
    "    df = pd.read_sql(sql,con=connection)\n",
    "    return df"
   ]
  },
  {
   "cell_type": "code",
   "execution_count": 25,
   "id": "864d0152-0622-41ec-a7fd-acc431a78c7f",
   "metadata": {},
   "outputs": [
    {
     "data": {
      "text/html": [
       "<div>\n",
       "<style scoped>\n",
       "    .dataframe tbody tr th:only-of-type {\n",
       "        vertical-align: middle;\n",
       "    }\n",
       "\n",
       "    .dataframe tbody tr th {\n",
       "        vertical-align: top;\n",
       "    }\n",
       "\n",
       "    .dataframe thead th {\n",
       "        text-align: right;\n",
       "    }\n",
       "</style>\n",
       "<table border=\"1\" class=\"dataframe\">\n",
       "  <thead>\n",
       "    <tr style=\"text-align: right;\">\n",
       "      <th></th>\n",
       "      <th>location</th>\n",
       "      <th>restaurant</th>\n",
       "    </tr>\n",
       "  </thead>\n",
       "  <tbody>\n",
       "    <tr>\n",
       "      <th>0</th>\n",
       "      <td>Mohammadpur</td>\n",
       "      <td>chillox</td>\n",
       "    </tr>\n",
       "    <tr>\n",
       "      <th>1</th>\n",
       "      <td>Dhanmondi</td>\n",
       "      <td>chillox</td>\n",
       "    </tr>\n",
       "  </tbody>\n",
       "</table>\n",
       "</div>"
      ],
      "text/plain": [
       "      location restaurant\n",
       "0  Mohammadpur    chillox\n",
       "1    Dhanmondi    chillox"
      ]
     },
     "execution_count": 25,
     "metadata": {},
     "output_type": "execute_result"
    }
   ],
   "source": [
    "location = table(connection, 'location_data')\n",
    "location.head(2)"
   ]
  },
  {
   "cell_type": "code",
   "execution_count": 3,
   "id": "e17b7d83-24eb-40fb-a837-19dbb7e53873",
   "metadata": {},
   "outputs": [
    {
     "data": {
      "text/html": [
       "<div>\n",
       "<style scoped>\n",
       "    .dataframe tbody tr th:only-of-type {\n",
       "        vertical-align: middle;\n",
       "    }\n",
       "\n",
       "    .dataframe tbody tr th {\n",
       "        vertical-align: top;\n",
       "    }\n",
       "\n",
       "    .dataframe thead th {\n",
       "        text-align: right;\n",
       "    }\n",
       "</style>\n",
       "<table border=\"1\" class=\"dataframe\">\n",
       "  <thead>\n",
       "    <tr style=\"text-align: right;\">\n",
       "      <th></th>\n",
       "      <th>name</th>\n",
       "      <th>price</th>\n",
       "      <th>restaurant</th>\n",
       "    </tr>\n",
       "  </thead>\n",
       "  <tbody>\n",
       "    <tr>\n",
       "      <th>41</th>\n",
       "      <td>Cookies n' Cream</td>\n",
       "      <td>299</td>\n",
       "      <td>madchef</td>\n",
       "    </tr>\n",
       "    <tr>\n",
       "      <th>42</th>\n",
       "      <td>French Vanilla Latte</td>\n",
       "      <td>299</td>\n",
       "      <td>madchef</td>\n",
       "    </tr>\n",
       "  </tbody>\n",
       "</table>\n",
       "</div>"
      ],
      "text/plain": [
       "                    name price restaurant\n",
       "41      Cookies n' Cream   299    madchef\n",
       "42  French Vanilla Latte   299    madchef"
      ]
     },
     "execution_count": 3,
     "metadata": {},
     "output_type": "execute_result"
    }
   ],
   "source": [
    "madchef = table(connection, 'madchef')\n",
    "madchef.tail(2)"
   ]
  },
  {
   "cell_type": "code",
   "execution_count": 4,
   "id": "5680f055-5cc6-4f2a-b512-e45a82872db1",
   "metadata": {},
   "outputs": [
    {
     "data": {
      "text/html": [
       "<div>\n",
       "<style scoped>\n",
       "    .dataframe tbody tr th:only-of-type {\n",
       "        vertical-align: middle;\n",
       "    }\n",
       "\n",
       "    .dataframe tbody tr th {\n",
       "        vertical-align: top;\n",
       "    }\n",
       "\n",
       "    .dataframe thead th {\n",
       "        text-align: right;\n",
       "    }\n",
       "</style>\n",
       "<table border=\"1\" class=\"dataframe\">\n",
       "  <thead>\n",
       "    <tr style=\"text-align: right;\">\n",
       "      <th></th>\n",
       "      <th>name</th>\n",
       "      <th>price</th>\n",
       "      <th>restaurant</th>\n",
       "    </tr>\n",
       "  </thead>\n",
       "  <tbody>\n",
       "    <tr>\n",
       "      <th>55</th>\n",
       "      <td>Mountain Dew</td>\n",
       "      <td>32</td>\n",
       "      <td>Pizza Hut</td>\n",
       "    </tr>\n",
       "    <tr>\n",
       "      <th>56</th>\n",
       "      <td>7 UP</td>\n",
       "      <td>35</td>\n",
       "      <td>Pizza Hut</td>\n",
       "    </tr>\n",
       "  </tbody>\n",
       "</table>\n",
       "</div>"
      ],
      "text/plain": [
       "            name price restaurant\n",
       "55  Mountain Dew    32  Pizza Hut\n",
       "56          7 UP    35  Pizza Hut"
      ]
     },
     "execution_count": 4,
     "metadata": {},
     "output_type": "execute_result"
    }
   ],
   "source": [
    "pizzahut = table(connection, 'pizzahut')\n",
    "pizzahut.tail(2)"
   ]
  },
  {
   "cell_type": "code",
   "execution_count": 5,
   "id": "fd1d9b0e-e2e4-432f-be5d-7b712be4d20a",
   "metadata": {},
   "outputs": [
    {
     "data": {
      "text/html": [
       "<div>\n",
       "<style scoped>\n",
       "    .dataframe tbody tr th:only-of-type {\n",
       "        vertical-align: middle;\n",
       "    }\n",
       "\n",
       "    .dataframe tbody tr th {\n",
       "        vertical-align: top;\n",
       "    }\n",
       "\n",
       "    .dataframe thead th {\n",
       "        text-align: right;\n",
       "    }\n",
       "</style>\n",
       "<table border=\"1\" class=\"dataframe\">\n",
       "  <thead>\n",
       "    <tr style=\"text-align: right;\">\n",
       "      <th></th>\n",
       "      <th>name</th>\n",
       "      <th>price</th>\n",
       "      <th>restaurant</th>\n",
       "    </tr>\n",
       "  </thead>\n",
       "  <tbody>\n",
       "    <tr>\n",
       "      <th>10</th>\n",
       "      <td>BINGE BEEFICHICKEN 2x Giant Beeli Chicken Patl...</td>\n",
       "      <td>680</td>\n",
       "      <td>chillox</td>\n",
       "    </tr>\n",
       "    <tr>\n",
       "      <th>11</th>\n",
       "      <td>CHICKEN FINGERS (5 PCS/1O PCS)</td>\n",
       "      <td>130</td>\n",
       "      <td>chillox</td>\n",
       "    </tr>\n",
       "  </tbody>\n",
       "</table>\n",
       "</div>"
      ],
      "text/plain": [
       "                                                 name  price restaurant\n",
       "10  BINGE BEEFICHICKEN 2x Giant Beeli Chicken Patl...    680    chillox\n",
       "11                     CHICKEN FINGERS (5 PCS/1O PCS)    130    chillox"
      ]
     },
     "execution_count": 5,
     "metadata": {},
     "output_type": "execute_result"
    }
   ],
   "source": [
    "chillox = table(connection, 'chillox')\n",
    "chillox.tail(2)"
   ]
  },
  {
   "cell_type": "code",
   "execution_count": 6,
   "id": "0022a2ed-de37-4adc-9458-17f53f2e0b6a",
   "metadata": {},
   "outputs": [
    {
     "data": {
      "text/html": [
       "<div>\n",
       "<style scoped>\n",
       "    .dataframe tbody tr th:only-of-type {\n",
       "        vertical-align: middle;\n",
       "    }\n",
       "\n",
       "    .dataframe tbody tr th {\n",
       "        vertical-align: top;\n",
       "    }\n",
       "\n",
       "    .dataframe thead th {\n",
       "        text-align: right;\n",
       "    }\n",
       "</style>\n",
       "<table border=\"1\" class=\"dataframe\">\n",
       "  <thead>\n",
       "    <tr style=\"text-align: right;\">\n",
       "      <th></th>\n",
       "      <th>name</th>\n",
       "      <th>price</th>\n",
       "      <th>restaurant</th>\n",
       "    </tr>\n",
       "  </thead>\n",
       "  <tbody>\n",
       "    <tr>\n",
       "      <th>110</th>\n",
       "      <td>Cookies n' Cream</td>\n",
       "      <td>299</td>\n",
       "      <td>madchef</td>\n",
       "    </tr>\n",
       "    <tr>\n",
       "      <th>111</th>\n",
       "      <td>French Vanilla Latte</td>\n",
       "      <td>299</td>\n",
       "      <td>madchef</td>\n",
       "    </tr>\n",
       "  </tbody>\n",
       "</table>\n",
       "</div>"
      ],
      "text/plain": [
       "                     name  price restaurant\n",
       "110      Cookies n' Cream    299    madchef\n",
       "111  French Vanilla Latte    299    madchef"
      ]
     },
     "execution_count": 6,
     "metadata": {},
     "output_type": "execute_result"
    }
   ],
   "source": [
    "restaurants = chillox.append(pizzahut).append(madchef).reset_index(drop=True)\n",
    "\n",
    "# all_data = restaurants.merge(location, on='restaurant')\n",
    "restaurants[\"price\"] = pd.to_numeric(restaurants[\"price\"])\n",
    "restaurants.tail(2)"
   ]
  },
  {
   "cell_type": "markdown",
   "id": "c81d844f-7bde-4fa9-b2e5-3ad91fbaba14",
   "metadata": {},
   "source": [
    "## Insights for data model"
   ]
  },
  {
   "cell_type": "code",
   "execution_count": 7,
   "id": "83f43d27-593d-4c57-af7f-e49f8187e47b",
   "metadata": {},
   "outputs": [
    {
     "name": "stdout",
     "output_type": "stream",
     "text": [
      "['Sony', 'Sylhet', 'Gulshan 2', 'Chittagong', 'RM Center', 'Wari', 'Mirpur 2', 'Banani', 'Shewrapara', 'Uttara', 'Aftabnagar', 'Mirpur', 'Bashundhara', 'Cox Bazar', 'Khilgaon', 'Adabor', 'Savar', 'Banasree', 'Baily Road', 'great empty', 'ভরপুর', 'in', 'Bailey Road', 'Bhatara', 'Basundhara', 'Gulshan', 'Mirpur TFC', 'Mohammadpur', 'Jamuna', 'Dhanmondi']\n",
      "Max price 1479\n",
      "Min price 25\n"
     ]
    }
   ],
   "source": [
    "locations = list(set(location['location']))\n",
    "print(locations)\n",
    "\n",
    "print(\"Max price\",max(restaurants['price']))\n",
    "print(\"Min price\",min(restaurants['price']))\n",
    "\n",
    "products = list(set(restaurants['name']))"
   ]
  },
  {
   "cell_type": "code",
   "execution_count": 8,
   "id": "6a554b6b-bf1d-45d2-83da-4bf7a25336a0",
   "metadata": {},
   "outputs": [
    {
     "name": "stdout",
     "output_type": "stream",
     "text": [
      "['Lemon Iced Tea', 'Red n Hot (GS)', \"Madchef's FAV\", 'Beef Lovers.', 'The Cuban', 'Ultimate Hot Chicken', 'Chicken Delight (GS)', 'Bbq Temptation (GS)', 'Bbq Blast', 'BBQ Chicken', 'The Dhakaiyya', 'Garlic Bread Spicy Supreme', 'Mango Habanero Grilled Chicken', \"Cookies n' Cream\", 'Just Milo', 'Spicy Basil Chicken', 'PEPSI', 'Beef Arabiatta', 'Signature Beef', 'Gyro Chicken over Rice', 'Veggie Supreme', 'BEEF/CHICKEN SIGNATURE 2x Beef/Chicken Patty; 2x Cheese, BeefiChicken Pastrami; Poached Egg', 'Chicken Classic (GS)', \"Smokin' Chic\", 'Madame Lucy', 'Buffalo', 'Gyro Chicken over Cajun Fries', 'BEEFICHICKEN SMOKY BBQ CHEESE BBQ Sauce Cooked Beef _ Chicken Patly: Cheese', 'CHOOSE YOUR SAUCE LEVEL', 'Roast Chicken', 'Spicy Chicken (C.B)', 'Mountain Dew', 'Cake In My Shake', 'Mushroom', 'Beef Lovers (C.B)', 'Chicken Supreme.', 'Creamcheez Stuffed Chicken', '7 UP', 'The BIG Rob', 'BINGE BEEFICHICKEN 2x Giant Beeli Chicken Patly; Smoked Chicken; Chicken Ham; 3x Cheese', 'Classic Margherita', 'The Wroks (GS)', 'Spicy Garlic Mushrooms', 'Red N Hot.', 'Chicken Classic (Thin Crust)', 'Chicken Exotica', 'Creamy Mushroom Stuffed Chicken', 'Double Cheese', 'Lime Refreshmint', 'Achari Fried Rice', 'Spicy Chicken (GS)', 'Chicken Delight (C.B)', 'ADD SOME TOPPINGS 25 TK Teriyaki Sauce 25 TK Egg 30 TK Pepperoni 70 TK 0 Patty', 'The HAWK', 'Chicken Delight.', 'BEEFICHICKEN WIth CHEESE BeefiChicken Patty: Cheese, Special Sauce', 'Supreme.', 'Garlic Bread', 'Chicken Arabiatta', 'Mighty Spicy Chic', 'Strawberry Caipirinha', 'French Vanilla Latte', 'CHICKEN FINGERS (5 PCS/1O PCS)', 'Triple Chicken Feast', 'Red N Hot (Thin Crust)', 'Mushroom Melt', 'Garlic Bread Exotica', 'Kala Bhuna Deluxe (GS)', 'Bbq Temptation (Thin Crust)', 'Naga-Tastic', 'Fries - Salt & Pepper', 'Crispy Chicken & Bacon', 'BRIOCHE BUN', 'Chicken Cheese Bombs', 'Beef Pepperoni', 'Cheesy Garlic Sticks', 'BEEFICHICKEN WITH SAUSAGE BeefiChicken Patty; 2x Chicken Sausage, Cheese', 'Classic Chicken Sausage', 'Beef Lovers (GS)', 'BEEFICHICKEN WITH BACON BeefiChicken Patty; Beef Bacon', 'The Works', 'Spicy Cajun Fries', 'Signature Chicken', 'Peanut Butter', 'Red N Hot (C.B)', 'Garlic Bread Sticks', 'Smoky Grilled Buzz', 'Nutella Madness', 'Chicken Classic.', 'Onion Rings', 'FRENCH FRIES (REGULARILARGE)', 'Garlic bread with cheese', 'Paneer Sticks', 'Cheese 0 BBQ Sauce Sausage Beef Bacon', 'Bbq Temptation .', 'Baked-Chicken Arabiatta', 'Spicy Beef.', 'Honey Limade', 'Supreme (GS)', 'Spicy Kala Bhuna', 'Spicy Chicken.', 'Honey Garlic', 'Chicken Mushroom', 'Baked Potato Wedges', 'Baked-Chicken Mushroom', 'Mad Monster', 'Shah Poutine', 'Classic Beef', 'Original', 'Chicken Steak Meal', 'Veggie Lovers']\n"
     ]
    }
   ],
   "source": [
    "print(products)"
   ]
  },
  {
   "cell_type": "markdown",
   "id": "82439954-e283-41a3-9a37-7710a08e7fc0",
   "metadata": {},
   "source": [
    "## Data model"
   ]
  },
  {
   "cell_type": "code",
   "execution_count": 9,
   "id": "3da90997-0000-4bf7-8485-760a50ff37b1",
   "metadata": {},
   "outputs": [],
   "source": [
    "food_list = products\n",
    "food_list = [item.replace(\"'\",\"\").strip() for item in input(f\"Enter foods from the list : {products}\").split(\",\")]\n",
    "clear_output()"
   ]
  },
  {
   "cell_type": "code",
   "execution_count": 10,
   "id": "23262671-e73c-42ad-abfe-4ebb36d6dde7",
   "metadata": {},
   "outputs": [
    {
     "name": "stdin",
     "output_type": "stream",
     "text": [
      "Enter minimum price range:  100\n",
      "Enter maximum price range:  600\n"
     ]
    }
   ],
   "source": [
    "min_price, max_price = 0, 10000000000\n",
    "min_price = int(input(\"Enter minimum price range: \"))\n",
    "max_price = int(input(\"Enter maximum price range: \"))"
   ]
  },
  {
   "cell_type": "code",
   "execution_count": 11,
   "id": "956eccb5-a1ca-48fb-aa8c-c93d5d8fab70",
   "metadata": {},
   "outputs": [],
   "source": [
    "location_list = locations\n",
    "location_list = [item.replace(\"'\",\"\").strip() for item in input(f\"Enter prefered locations : {locations}\").split(\",\")]\n",
    "clear_output()"
   ]
  },
  {
   "cell_type": "markdown",
   "id": "a8cf29e7-02bf-403f-a11b-bc3d8058f814",
   "metadata": {},
   "source": [
    "# algorithm"
   ]
  },
  {
   "cell_type": "code",
   "execution_count": 12,
   "id": "0db3444d-c363-4262-848e-c4728158b155",
   "metadata": {},
   "outputs": [
    {
     "data": {
      "text/html": [
       "<div>\n",
       "<style scoped>\n",
       "    .dataframe tbody tr th:only-of-type {\n",
       "        vertical-align: middle;\n",
       "    }\n",
       "\n",
       "    .dataframe tbody tr th {\n",
       "        vertical-align: top;\n",
       "    }\n",
       "\n",
       "    .dataframe thead th {\n",
       "        text-align: right;\n",
       "    }\n",
       "</style>\n",
       "<table border=\"1\" class=\"dataframe\">\n",
       "  <thead>\n",
       "    <tr style=\"text-align: right;\">\n",
       "      <th></th>\n",
       "      <th>name</th>\n",
       "      <th>price</th>\n",
       "      <th>restaurant</th>\n",
       "    </tr>\n",
       "  </thead>\n",
       "  <tbody>\n",
       "    <tr>\n",
       "      <th>0</th>\n",
       "      <td>BRIOCHE BUN</td>\n",
       "      <td>300</td>\n",
       "      <td>chillox</td>\n",
       "    </tr>\n",
       "    <tr>\n",
       "      <th>1</th>\n",
       "      <td>ADD SOME TOPPINGS 25 TK Teriyaki Sauce 25 TK E...</td>\n",
       "      <td>320</td>\n",
       "      <td>chillox</td>\n",
       "    </tr>\n",
       "    <tr>\n",
       "      <th>2</th>\n",
       "      <td>CHICKEN FINGERS (5 PCS/1O PCS)</td>\n",
       "      <td>130</td>\n",
       "      <td>chillox</td>\n",
       "    </tr>\n",
       "    <tr>\n",
       "      <th>3</th>\n",
       "      <td>Classic Margherita</td>\n",
       "      <td>179</td>\n",
       "      <td>Pizza Hut</td>\n",
       "    </tr>\n",
       "    <tr>\n",
       "      <th>4</th>\n",
       "      <td>Chicken Exotica</td>\n",
       "      <td>329</td>\n",
       "      <td>Pizza Hut</td>\n",
       "    </tr>\n",
       "    <tr>\n",
       "      <th>5</th>\n",
       "      <td>Double Cheese</td>\n",
       "      <td>329</td>\n",
       "      <td>Pizza Hut</td>\n",
       "    </tr>\n",
       "    <tr>\n",
       "      <th>6</th>\n",
       "      <td>Red N Hot.</td>\n",
       "      <td>429</td>\n",
       "      <td>Pizza Hut</td>\n",
       "    </tr>\n",
       "    <tr>\n",
       "      <th>7</th>\n",
       "      <td>Supreme.</td>\n",
       "      <td>429</td>\n",
       "      <td>Pizza Hut</td>\n",
       "    </tr>\n",
       "    <tr>\n",
       "      <th>8</th>\n",
       "      <td>Chicken Delight.</td>\n",
       "      <td>429</td>\n",
       "      <td>Pizza Hut</td>\n",
       "    </tr>\n",
       "    <tr>\n",
       "      <th>9</th>\n",
       "      <td>Triple Chicken Feast</td>\n",
       "      <td>479</td>\n",
       "      <td>Pizza Hut</td>\n",
       "    </tr>\n",
       "    <tr>\n",
       "      <th>10</th>\n",
       "      <td>Chicken Arabiatta</td>\n",
       "      <td>369</td>\n",
       "      <td>Pizza Hut</td>\n",
       "    </tr>\n",
       "    <tr>\n",
       "      <th>11</th>\n",
       "      <td>Garlic Bread</td>\n",
       "      <td>189</td>\n",
       "      <td>Pizza Hut</td>\n",
       "    </tr>\n",
       "    <tr>\n",
       "      <th>12</th>\n",
       "      <td>Spicy Garlic Mushrooms</td>\n",
       "      <td>489</td>\n",
       "      <td>Pizza Hut</td>\n",
       "    </tr>\n",
       "    <tr>\n",
       "      <th>13</th>\n",
       "      <td>Garlic Bread Exotica</td>\n",
       "      <td>339</td>\n",
       "      <td>Pizza Hut</td>\n",
       "    </tr>\n",
       "    <tr>\n",
       "      <th>14</th>\n",
       "      <td>Chicken Cheese Bombs</td>\n",
       "      <td>299</td>\n",
       "      <td>madchef</td>\n",
       "    </tr>\n",
       "    <tr>\n",
       "      <th>15</th>\n",
       "      <td>Fries - Salt &amp; Pepper</td>\n",
       "      <td>139</td>\n",
       "      <td>madchef</td>\n",
       "    </tr>\n",
       "    <tr>\n",
       "      <th>16</th>\n",
       "      <td>Spicy Garlic Mushrooms</td>\n",
       "      <td>269</td>\n",
       "      <td>madchef</td>\n",
       "    </tr>\n",
       "    <tr>\n",
       "      <th>17</th>\n",
       "      <td>Naga-Tastic</td>\n",
       "      <td>399</td>\n",
       "      <td>madchef</td>\n",
       "    </tr>\n",
       "    <tr>\n",
       "      <th>18</th>\n",
       "      <td>Mushroom Melt</td>\n",
       "      <td>379</td>\n",
       "      <td>madchef</td>\n",
       "    </tr>\n",
       "    <tr>\n",
       "      <th>19</th>\n",
       "      <td>Mighty Spicy Chic</td>\n",
       "      <td>449</td>\n",
       "      <td>madchef</td>\n",
       "    </tr>\n",
       "    <tr>\n",
       "      <th>20</th>\n",
       "      <td>Crispy Chicken &amp; Bacon</td>\n",
       "      <td>439</td>\n",
       "      <td>madchef</td>\n",
       "    </tr>\n",
       "    <tr>\n",
       "      <th>21</th>\n",
       "      <td>Creamy Mushroom Stuffed Chicken</td>\n",
       "      <td>497</td>\n",
       "      <td>madchef</td>\n",
       "    </tr>\n",
       "    <tr>\n",
       "      <th>22</th>\n",
       "      <td>Achari Fried Rice</td>\n",
       "      <td>299</td>\n",
       "      <td>madchef</td>\n",
       "    </tr>\n",
       "    <tr>\n",
       "      <th>23</th>\n",
       "      <td>Strawberry Caipirinha</td>\n",
       "      <td>279</td>\n",
       "      <td>madchef</td>\n",
       "    </tr>\n",
       "    <tr>\n",
       "      <th>24</th>\n",
       "      <td>Lime Refreshmint</td>\n",
       "      <td>179</td>\n",
       "      <td>madchef</td>\n",
       "    </tr>\n",
       "    <tr>\n",
       "      <th>25</th>\n",
       "      <td>French Vanilla Latte</td>\n",
       "      <td>299</td>\n",
       "      <td>madchef</td>\n",
       "    </tr>\n",
       "  </tbody>\n",
       "</table>\n",
       "</div>"
      ],
      "text/plain": [
       "                                                 name  price restaurant\n",
       "0                                         BRIOCHE BUN    300    chillox\n",
       "1   ADD SOME TOPPINGS 25 TK Teriyaki Sauce 25 TK E...    320    chillox\n",
       "2                      CHICKEN FINGERS (5 PCS/1O PCS)    130    chillox\n",
       "3                                  Classic Margherita    179  Pizza Hut\n",
       "4                                     Chicken Exotica    329  Pizza Hut\n",
       "5                                       Double Cheese    329  Pizza Hut\n",
       "6                                          Red N Hot.    429  Pizza Hut\n",
       "7                                            Supreme.    429  Pizza Hut\n",
       "8                                    Chicken Delight.    429  Pizza Hut\n",
       "9                                Triple Chicken Feast    479  Pizza Hut\n",
       "10                                  Chicken Arabiatta    369  Pizza Hut\n",
       "11                                       Garlic Bread    189  Pizza Hut\n",
       "12                             Spicy Garlic Mushrooms    489  Pizza Hut\n",
       "13                               Garlic Bread Exotica    339  Pizza Hut\n",
       "14                               Chicken Cheese Bombs    299    madchef\n",
       "15                              Fries - Salt & Pepper    139    madchef\n",
       "16                             Spicy Garlic Mushrooms    269    madchef\n",
       "17                                        Naga-Tastic    399    madchef\n",
       "18                                      Mushroom Melt    379    madchef\n",
       "19                                  Mighty Spicy Chic    449    madchef\n",
       "20                             Crispy Chicken & Bacon    439    madchef\n",
       "21                    Creamy Mushroom Stuffed Chicken    497    madchef\n",
       "22                                  Achari Fried Rice    299    madchef\n",
       "23                              Strawberry Caipirinha    279    madchef\n",
       "24                                   Lime Refreshmint    179    madchef\n",
       "25                               French Vanilla Latte    299    madchef"
      ]
     },
     "execution_count": 12,
     "metadata": {},
     "output_type": "execute_result"
    }
   ],
   "source": [
    "# Filtering data by preferrer location\n",
    "location_filter = location[location['location'].isin(location_list)]\n",
    "\n",
    "# Filtering data by preffered food\n",
    "food_filter = restaurants[restaurants['name'].isin(food_list)]\n",
    "\n",
    "# Filtering data within the price range\n",
    "price_filter = food_filter[(food_filter['price']>=min_price) &  (food_filter['price']<=max_price)].reset_index(drop=True)\n",
    "\n",
    "# Filtering restaurants from perffered locations and providing the best result\n",
    "location_filtered = list(set(location_filter['restaurant']))\n",
    "final_data = price_filter[price_filter['restaurant'].isin(location_filtered)]\n",
    "final_data"
   ]
  },
  {
   "cell_type": "code",
   "execution_count": 23,
   "id": "a423a00c-3823-42b8-ab6b-a15829845be5",
   "metadata": {},
   "outputs": [],
   "source": []
  }
 ],
 "metadata": {
  "kernelspec": {
   "display_name": "Python 3",
   "language": "python",
   "name": "python3"
  },
  "language_info": {
   "codemirror_mode": {
    "name": "ipython",
    "version": 3
   },
   "file_extension": ".py",
   "mimetype": "text/x-python",
   "name": "python",
   "nbconvert_exporter": "python",
   "pygments_lexer": "ipython3",
   "version": "3.6.3"
  }
 },
 "nbformat": 4,
 "nbformat_minor": 5
}
